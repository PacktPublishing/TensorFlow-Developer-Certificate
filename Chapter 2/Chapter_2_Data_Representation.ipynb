{
  "nbformat": 4,
  "nbformat_minor": 0,
  "metadata": {
    "colab": {
      "name": "Chapter 2-Data Representation.ipynb",
      "provenance": [],
      "collapsed_sections": []
    },
    "kernelspec": {
      "name": "python3",
      "display_name": "Python 3"
    },
    "language_info": {
      "name": "python"
    }
  },
  "cells": [
    {
      "cell_type": "markdown",
      "source": [
        "#TensorFlow Developer Certificate\n",
        "\n",
        "## Introduction to TensorFlow (CHAPTER 2)"
      ],
      "metadata": {
        "id": "VrgpYNd7FO95"
      }
    },
    {
      "cell_type": "markdown",
      "source": [
        " ## Data Representation \n",
        "\n",
        "Reference 1 for Tensors: https://www.tensorflow.org/api_docs/python/tf/Tensor\n",
        "\n",
        "Reference 2 for errors: https://www.tensorflow.org/api_docs/python/tf/errors\n",
        "\n",
        "Reference 3 for Hello World: https://www.tensorflow.org/tutorials/keras/regression\n",
        "\n",
        "https://www.youtube.com/watch?v=-vHQub0NXI4&list=RDCMUC0rqucBdTuFTjJiefW5t-IQ&start_radio=1\n",
        "\n",
        "The goal of this notebook is to understand data represenation with TensorFlow"
      ],
      "metadata": {
        "id": "-icxkgqfFX9I"
      }
    },
    {
      "cell_type": "code",
      "source": [
        "#pip install Tensorflow"
      ],
      "metadata": {
        "id": "7QSguJQEFXY5"
      },
      "execution_count": 51,
      "outputs": []
    },
    {
      "cell_type": "code",
      "source": [
        "#Import required libraries\n",
        "import tensorflow as tf\n",
        "import numpy as np\n",
        "from numpy import *"
      ],
      "metadata": {
        "id": "LvKyHksAFwy4"
      },
      "execution_count": 52,
      "outputs": []
    },
    {
      "cell_type": "code",
      "source": [
        "print(tf.__version__)"
      ],
      "metadata": {
        "colab": {
          "base_uri": "https://localhost:8080/"
        },
        "id": "Oz686gfbFwwn",
        "outputId": "01255fdc-1481-46a0-98ff-ca89a6ae4ced"
      },
      "execution_count": 53,
      "outputs": [
        {
          "output_type": "stream",
          "name": "stdout",
          "text": [
            "2.8.0\n"
          ]
        }
      ]
    },
    {
      "cell_type": "markdown",
      "source": [
        "#Creating tensors using \n",
        "* tf.constant()\n",
        "* tf.variables()\n",
        "* tf.range()"
      ],
      "metadata": {
        "id": "T18sUsLyF8rY"
      }
    },
    {
      "cell_type": "code",
      "source": [
        "#Creating a tensor object using tf constant\n",
        "a_constant = tf.constant([1, 2, 3, 4 ,5,6])\n",
        "a_constant"
      ],
      "metadata": {
        "colab": {
          "base_uri": "https://localhost:8080/"
        },
        "id": "yqMgvGzRF8EA",
        "outputId": "285206fe-dade-4de6-cb1f-a4f537cf401f"
      },
      "execution_count": 54,
      "outputs": [
        {
          "output_type": "execute_result",
          "data": {
            "text/plain": [
              "<tf.Tensor: shape=(6,), dtype=int32, numpy=array([1, 2, 3, 4, 5, 6], dtype=int32)>"
            ]
          },
          "metadata": {},
          "execution_count": 54
        }
      ]
    },
    {
      "cell_type": "code",
      "source": [
        "#Creating a tensor object using tf constant \n",
        "a_variable = tf.Variable([1, 2, 3, 4 ,5,6])\n",
        "a_variable"
      ],
      "metadata": {
        "colab": {
          "base_uri": "https://localhost:8080/"
        },
        "id": "-t5sTejuFwrw",
        "outputId": "f155db5c-13c6-41f3-e888-9b8f954537ee"
      },
      "execution_count": 55,
      "outputs": [
        {
          "output_type": "execute_result",
          "data": {
            "text/plain": [
              "<tf.Variable 'Variable:0' shape=(6,) dtype=int32, numpy=array([1, 2, 3, 4, 5, 6], dtype=int32)>"
            ]
          },
          "metadata": {},
          "execution_count": 55
        }
      ]
    },
    {
      "cell_type": "code",
      "source": [
        "# Creating tensors using the range function \n",
        "a_range = tf.range(start=1, limit=7)\n",
        "a_range"
      ],
      "metadata": {
        "colab": {
          "base_uri": "https://localhost:8080/"
        },
        "id": "GzEsleVzFwpI",
        "outputId": "cc0b805b-0650-43b5-f339-360e1ab0404b"
      },
      "execution_count": 56,
      "outputs": [
        {
          "output_type": "execute_result",
          "data": {
            "text/plain": [
              "<tf.Tensor: shape=(6,), dtype=int32, numpy=array([1, 2, 3, 4, 5, 6], dtype=int32)>"
            ]
          },
          "metadata": {},
          "execution_count": 56
        }
      ]
    },
    {
      "cell_type": "markdown",
      "source": [
        "#Tensor Rank"
      ],
      "metadata": {
        "id": "0-muuKARHHt3"
      }
    },
    {
      "cell_type": "code",
      "source": [
        "#scalar\n",
        "a = tf.constant(1)\n",
        "a"
      ],
      "metadata": {
        "colab": {
          "base_uri": "https://localhost:8080/"
        },
        "id": "ZT0ldHH5HHRY",
        "outputId": "2f6dc778-a327-4921-cd0d-9147947efbd2"
      },
      "execution_count": 57,
      "outputs": [
        {
          "output_type": "execute_result",
          "data": {
            "text/plain": [
              "<tf.Tensor: shape=(), dtype=int32, numpy=1>"
            ]
          },
          "metadata": {},
          "execution_count": 57
        }
      ]
    },
    {
      "cell_type": "code",
      "execution_count": 58,
      "metadata": {
        "colab": {
          "base_uri": "https://localhost:8080/"
        },
        "id": "VLP38zPeFOap",
        "outputId": "ab7e7b5f-f9f8-4098-e48d-3655f4f4e03f"
      },
      "outputs": [
        {
          "output_type": "execute_result",
          "data": {
            "text/plain": [
              "<tf.Tensor: shape=(4,), dtype=float32, numpy=array([1.2, 2.3, 3.4, 4.5], dtype=float32)>"
            ]
          },
          "metadata": {},
          "execution_count": 58
        }
      ],
      "source": [
        "#vector \n",
        "b= tf.constant([1.2,2.3,3.4,4.5])\n",
        "b"
      ]
    },
    {
      "cell_type": "code",
      "source": [
        "#matrix\n",
        "c =tf.constant([[1,2],[3,4]])\n",
        "c"
      ],
      "metadata": {
        "colab": {
          "base_uri": "https://localhost:8080/"
        },
        "id": "uo-kFVWsHKen",
        "outputId": "86413e71-d967-4400-ad6e-8a97b9cba079"
      },
      "execution_count": 59,
      "outputs": [
        {
          "output_type": "execute_result",
          "data": {
            "text/plain": [
              "<tf.Tensor: shape=(2, 2), dtype=int32, numpy=\n",
              "array([[1, 2],\n",
              "       [3, 4]], dtype=int32)>"
            ]
          },
          "metadata": {},
          "execution_count": 59
        }
      ]
    },
    {
      "cell_type": "code",
      "source": [
        "#3-dimensional tensor\n",
        "d=tf.constant([[[1,2],[3,4],[5,6]],[[7,8],[9,10],[11,12]]])\n",
        "d"
      ],
      "metadata": {
        "colab": {
          "base_uri": "https://localhost:8080/"
        },
        "id": "8x0WnEmBHKb5",
        "outputId": "5d7e7889-3b9b-4531-93fb-05374ad81e25"
      },
      "execution_count": 60,
      "outputs": [
        {
          "output_type": "execute_result",
          "data": {
            "text/plain": [
              "<tf.Tensor: shape=(2, 3, 2), dtype=int32, numpy=\n",
              "array([[[ 1,  2],\n",
              "        [ 3,  4],\n",
              "        [ 5,  6]],\n",
              "\n",
              "       [[ 7,  8],\n",
              "        [ 9, 10],\n",
              "        [11, 12]]], dtype=int32)>"
            ]
          },
          "metadata": {},
          "execution_count": 60
        }
      ]
    },
    {
      "cell_type": "markdown",
      "source": [
        "# Properties of tensors"
      ],
      "metadata": {
        "id": "c4cbGZHTJT5P"
      }
    },
    {
      "cell_type": "code",
      "source": [
        "#scalar\n",
        "a = tf.Variable(1.1, name=\"TDC\", dtype=float16)\n",
        "a"
      ],
      "metadata": {
        "colab": {
          "base_uri": "https://localhost:8080/"
        },
        "id": "AMPCQ34IHKZg",
        "outputId": "48650ff4-3c12-4f30-c02b-82a055ddce57"
      },
      "execution_count": 61,
      "outputs": [
        {
          "output_type": "execute_result",
          "data": {
            "text/plain": [
              "<tf.Variable 'TDC:0' shape=() dtype=float16, numpy=1.1>"
            ]
          },
          "metadata": {},
          "execution_count": 61
        }
      ]
    },
    {
      "cell_type": "code",
      "source": [
        "#vector \n",
        "b= tf.Variable([1.2,2.3,3.4,4.5], name=\"'Vector\",dtype=float64)\n",
        "b"
      ],
      "metadata": {
        "colab": {
          "base_uri": "https://localhost:8080/"
        },
        "id": "HSNKUJpiHKXI",
        "outputId": "4fc1382b-c651-44b1-ce62-46e7405d26bd"
      },
      "execution_count": 62,
      "outputs": [
        {
          "output_type": "execute_result",
          "data": {
            "text/plain": [
              "<tf.Variable ''Vector:0' shape=(4,) dtype=float64, numpy=array([1.2, 2.3, 3.4, 4.5])>"
            ]
          },
          "metadata": {},
          "execution_count": 62
        }
      ]
    },
    {
      "cell_type": "markdown",
      "source": [
        "### Rank of a tensor"
      ],
      "metadata": {
        "id": "Sj3gkIS0KdRv"
      }
    },
    {
      "cell_type": "code",
      "source": [
        "#scalar\n",
        "a = tf.constant(1.1)\n",
        "#vector\n",
        "b= tf.constant([1.2,2.3,3.4,4.5])\n",
        "#matrix\n",
        "c =tf.constant([[1,2],[3,4]])\n",
        "#Generating tensor rank\n",
        "print(\"The rank of the scalar is: \",tf.rank(a))\n",
        "print(\" \")\n",
        "print(\"The rank of the vector is: \",tf.rank(b))\n",
        "print(\" \")\n",
        "print(\"The rank of the matrix is: \",tf.rank(c))\n"
      ],
      "metadata": {
        "colab": {
          "base_uri": "https://localhost:8080/"
        },
        "id": "9qF3YgeDHKUp",
        "outputId": "8010f0bb-da4a-40b8-8a59-f8709e42d5d4"
      },
      "execution_count": 63,
      "outputs": [
        {
          "output_type": "stream",
          "name": "stdout",
          "text": [
            "The rank of the scalar is:  tf.Tensor(0, shape=(), dtype=int32)\n",
            " \n",
            "The rank of the vector is:  tf.Tensor(1, shape=(), dtype=int32)\n",
            " \n",
            "The rank of the matrix is:  tf.Tensor(2, shape=(), dtype=int32)\n"
          ]
        }
      ]
    },
    {
      "cell_type": "code",
      "source": [
        "#Generating details of the dimension\n",
        "\n",
        "print(\"The dimension of the scalar is: \",a.ndim)\n",
        "print(\" \")\n",
        "print(\"The dimension of the vector is: \",b.ndim)\n",
        "print(\" \")\n",
        "print(\"The dimension of the matrix is: \",c.ndim)\n"
      ],
      "metadata": {
        "colab": {
          "base_uri": "https://localhost:8080/"
        },
        "id": "_hrrVEZ7HKSA",
        "outputId": "cbc17fa2-e638-48e4-9b9c-c6024a5b81b9"
      },
      "execution_count": 64,
      "outputs": [
        {
          "output_type": "stream",
          "name": "stdout",
          "text": [
            "The dimension of the scalar is:  0\n",
            " \n",
            "The dimension of the vector is:  1\n",
            " \n",
            "The dimension of the matrix is:  2\n"
          ]
        }
      ]
    },
    {
      "cell_type": "markdown",
      "source": [
        "### Datatype of a tensor"
      ],
      "metadata": {
        "id": "TXDSsYDNLthv"
      }
    },
    {
      "cell_type": "code",
      "source": [
        "#printing the data type \n",
        "print(\"The data type of the scalar is: \",a.dtype)\n",
        "print(\" \")\n",
        "print(\"The data type of the vector is: \",b.dtype)\n",
        "print(\" \")\n",
        "print(\"The data type of the matrix is: \",c.dtype)\n"
      ],
      "metadata": {
        "colab": {
          "base_uri": "https://localhost:8080/"
        },
        "id": "xEAMQ4b2HKPY",
        "outputId": "4cae4b40-c8cb-4b02-aa28-4b29b8c9725e"
      },
      "execution_count": 65,
      "outputs": [
        {
          "output_type": "stream",
          "name": "stdout",
          "text": [
            "The data type of the scalar is:  <dtype: 'float32'>\n",
            " \n",
            "The data type of the vector is:  <dtype: 'float32'>\n",
            " \n",
            "The data type of the matrix is:  <dtype: 'int32'>\n"
          ]
        }
      ]
    },
    {
      "cell_type": "markdown",
      "source": [
        "### Shape of tensors"
      ],
      "metadata": {
        "id": "AwrWG4O1MGHH"
      }
    },
    {
      "cell_type": "code",
      "source": [
        "#Generating details of the tensor shape\n",
        "print(\"The Shape of the scalar is: \",a.shape)\n",
        "print(\" \")\n",
        "print(\"The Shape of the vector is: \",b.shape)\n",
        "print(\" \")\n",
        "print(\"The Shape of the matrix is: \",c.shape)\n"
      ],
      "metadata": {
        "colab": {
          "base_uri": "https://localhost:8080/"
        },
        "id": "CNRjXHxdHKMx",
        "outputId": "de9dc3c2-6c1f-4a7d-ed3e-757f2b17dfdd"
      },
      "execution_count": 66,
      "outputs": [
        {
          "output_type": "stream",
          "name": "stdout",
          "text": [
            "The Shape of the scalar is:  ()\n",
            " \n",
            "The Shape of the vector is:  (4,)\n",
            " \n",
            "The Shape of the matrix is:  (2, 2)\n"
          ]
        }
      ]
    },
    {
      "cell_type": "code",
      "source": [
        "#Generating number of elements in a tensor \n",
        "print(\"The Size of the scalar is: \",tf.size(a))\n",
        "print(\" \")\n",
        "print(\"The Size of the vector is: \",tf.size(b))\n",
        "print(\" \")\n",
        "print(\"The Size of the matrix is: \",tf.size(c))\n"
      ],
      "metadata": {
        "colab": {
          "base_uri": "https://localhost:8080/"
        },
        "id": "BARmRHMiHJto",
        "outputId": "01ba754d-da3c-4a5e-a02f-55f0451c831f"
      },
      "execution_count": 67,
      "outputs": [
        {
          "output_type": "stream",
          "name": "stdout",
          "text": [
            "The Size of the scalar is:  tf.Tensor(1, shape=(), dtype=int32)\n",
            " \n",
            "The Size of the vector is:  tf.Tensor(4, shape=(), dtype=int32)\n",
            " \n",
            "The Size of the matrix is:  tf.Tensor(4, shape=(), dtype=int32)\n"
          ]
        }
      ]
    },
    {
      "cell_type": "markdown",
      "source": [
        "#Basic tensor operations"
      ],
      "metadata": {
        "id": "oEQPrseRM8lB"
      }
    },
    {
      "cell_type": "markdown",
      "source": [
        "### Changing Data type"
      ],
      "metadata": {
        "id": "gD9Q5xGLNFaQ"
      }
    },
    {
      "cell_type": "code",
      "source": [
        "a=tf.constant([1,2,3,4,5])\n",
        "a"
      ],
      "metadata": {
        "colab": {
          "base_uri": "https://localhost:8080/"
        },
        "id": "paNxk66vHJrS",
        "outputId": "5bc9ff91-cd71-435c-e1fa-127a7cdb5f00"
      },
      "execution_count": 68,
      "outputs": [
        {
          "output_type": "execute_result",
          "data": {
            "text/plain": [
              "<tf.Tensor: shape=(5,), dtype=int32, numpy=array([1, 2, 3, 4, 5], dtype=int32)>"
            ]
          },
          "metadata": {},
          "execution_count": 68
        }
      ]
    },
    {
      "cell_type": "code",
      "source": [
        "#changing the datatype from int32 to float 32\n",
        "a =tf.cast(a,dtype=float32)\n",
        "a"
      ],
      "metadata": {
        "colab": {
          "base_uri": "https://localhost:8080/"
        },
        "id": "-bKMr5OSHJpA",
        "outputId": "095cb7e5-7142-486f-c41c-b3eff834229d"
      },
      "execution_count": 69,
      "outputs": [
        {
          "output_type": "execute_result",
          "data": {
            "text/plain": [
              "<tf.Tensor: shape=(5,), dtype=float32, numpy=array([1., 2., 3., 4., 5.], dtype=float32)>"
            ]
          },
          "metadata": {},
          "execution_count": 69
        }
      ]
    },
    {
      "cell_type": "markdown",
      "source": [
        "### Indexing "
      ],
      "metadata": {
        "id": "SLIhQ45zNqx_"
      }
    },
    {
      "cell_type": "code",
      "source": [
        "# Create a 2 x2 matrix \n",
        "a = tf.constant([[1, 2],[3, 4]], dtype=float32)\n",
        "a"
      ],
      "metadata": {
        "colab": {
          "base_uri": "https://localhost:8080/"
        },
        "id": "D4Hrd0dgHJmg",
        "outputId": "3a887dfa-6428-4422-b716-3edbbf81d038"
      },
      "execution_count": 70,
      "outputs": [
        {
          "output_type": "execute_result",
          "data": {
            "text/plain": [
              "<tf.Tensor: shape=(2, 2), dtype=float32, numpy=\n",
              "array([[1., 2.],\n",
              "       [3., 4.]], dtype=float32)>"
            ]
          },
          "metadata": {},
          "execution_count": 70
        }
      ]
    },
    {
      "cell_type": "code",
      "source": [
        "# Indexing using method 1\n",
        "a[0]"
      ],
      "metadata": {
        "colab": {
          "base_uri": "https://localhost:8080/"
        },
        "id": "pZZOT4q6HJkJ",
        "outputId": "50190513-ee50-4cc3-f0d6-b7c2ce4a1846"
      },
      "execution_count": 71,
      "outputs": [
        {
          "output_type": "execute_result",
          "data": {
            "text/plain": [
              "<tf.Tensor: shape=(2,), dtype=float32, numpy=array([1., 2.], dtype=float32)>"
            ]
          },
          "metadata": {},
          "execution_count": 71
        }
      ]
    },
    {
      "cell_type": "code",
      "source": [
        "# Indexing \n",
        "a[0][1]"
      ],
      "metadata": {
        "colab": {
          "base_uri": "https://localhost:8080/"
        },
        "id": "fRie0diIHJhg",
        "outputId": "2b38568e-7ee8-4ce5-bc5b-36e5bcb68a8d"
      },
      "execution_count": 72,
      "outputs": [
        {
          "output_type": "execute_result",
          "data": {
            "text/plain": [
              "<tf.Tensor: shape=(), dtype=float32, numpy=2.0>"
            ]
          },
          "metadata": {},
          "execution_count": 72
        }
      ]
    },
    {
      "cell_type": "code",
      "source": [
        "#Method 2\n",
        "c = tf.constant([0, 1, 2, 3, 4, 5])\n",
        "print(tf.slice(c,begin=[2],size=[4]))\n"
      ],
      "metadata": {
        "colab": {
          "base_uri": "https://localhost:8080/"
        },
        "id": "ZxcpnPYBHJeo",
        "outputId": "1f52b78a-4b4c-4e83-8aeb-7188d5b4a0ef"
      },
      "execution_count": 73,
      "outputs": [
        {
          "output_type": "stream",
          "name": "stdout",
          "text": [
            "tf.Tensor([2 3 4 5], shape=(4,), dtype=int32)\n"
          ]
        }
      ]
    },
    {
      "cell_type": "markdown",
      "source": [
        "### Expanding a matrix"
      ],
      "metadata": {
        "id": "yTM2g9PIQMxG"
      }
    },
    {
      "cell_type": "code",
      "source": [
        "tf.expand_dims(a,axis=0)"
      ],
      "metadata": {
        "colab": {
          "base_uri": "https://localhost:8080/"
        },
        "id": "0j8NnLq-Nx4c",
        "outputId": "338a1222-a21c-4cb9-889d-11cd20799b73"
      },
      "execution_count": 74,
      "outputs": [
        {
          "output_type": "execute_result",
          "data": {
            "text/plain": [
              "<tf.Tensor: shape=(1, 2, 2), dtype=float32, numpy=\n",
              "array([[[1., 2.],\n",
              "        [3., 4.]]], dtype=float32)>"
            ]
          },
          "metadata": {},
          "execution_count": 74
        }
      ]
    },
    {
      "cell_type": "code",
      "source": [
        "(tf.expand_dims(a,axis=0)).shape,(tf.expand_dims(a,axis=1)).shape,(tf.expand_dims(a,axis=-1)).shape"
      ],
      "metadata": {
        "colab": {
          "base_uri": "https://localhost:8080/"
        },
        "id": "wObI_ThDNx2f",
        "outputId": "f1779ff6-df57-4149-a338-f8a64188f6ae"
      },
      "execution_count": 75,
      "outputs": [
        {
          "output_type": "execute_result",
          "data": {
            "text/plain": [
              "(TensorShape([1, 2, 2]), TensorShape([2, 1, 2]), TensorShape([2, 2, 1]))"
            ]
          },
          "metadata": {},
          "execution_count": 75
        }
      ]
    },
    {
      "cell_type": "markdown",
      "source": [
        "### Tensor Aggregation"
      ],
      "metadata": {
        "id": "wege9xaGRSLr"
      }
    },
    {
      "cell_type": "code",
      "source": [
        "import random\n",
        "a = random.sample(range(1, 100), 50)\n",
        "a = tf.constant(a)"
      ],
      "metadata": {
        "id": "xu9cHsi3Nx0Z"
      },
      "execution_count": 76,
      "outputs": []
    },
    {
      "cell_type": "code",
      "source": [
        "a"
      ],
      "metadata": {
        "colab": {
          "base_uri": "https://localhost:8080/"
        },
        "id": "JoM_c9loSjD2",
        "outputId": "1b2671cf-182a-4df0-959e-7b9476a319bc"
      },
      "execution_count": 77,
      "outputs": [
        {
          "output_type": "execute_result",
          "data": {
            "text/plain": [
              "<tf.Tensor: shape=(50,), dtype=int32, numpy=\n",
              "array([63, 65, 17, 30, 84, 96, 87, 39, 92, 29, 61,  7, 86, 35, 32, 62, 81,\n",
              "       97,  2, 50, 82, 53,  9, 70, 40, 38, 34, 13, 68, 59, 21, 64, 89,  8,\n",
              "       79, 22, 94, 88, 85, 43, 15, 54, 73, 27, 60, 77, 75, 45, 25, 16],\n",
              "      dtype=int32)>"
            ]
          },
          "metadata": {},
          "execution_count": 77
        }
      ]
    },
    {
      "cell_type": "code",
      "source": [
        "print(\"The smallest number in our vector is : \",tf.reduce_min(a))\n",
        "print(\" \")\n",
        "print(\"The largest number in our vector is: \",tf.reduce_max(a))\n",
        "print(\" \")\n",
        "print(\"The sum of our vector is : \",tf.reduce_sum(a))\n",
        "print(\" \")\n",
        "print(\"The mean of our vector is: \",tf.reduce_mean(a))"
      ],
      "metadata": {
        "colab": {
          "base_uri": "https://localhost:8080/"
        },
        "id": "OE83loT-NxyL",
        "outputId": "04d25d86-b645-4166-fe58-85127ea0d976"
      },
      "execution_count": 78,
      "outputs": [
        {
          "output_type": "stream",
          "name": "stdout",
          "text": [
            "The smallest number in our vector is :  tf.Tensor(2, shape=(), dtype=int32)\n",
            " \n",
            "The largest number in our vector is:  tf.Tensor(97, shape=(), dtype=int32)\n",
            " \n",
            "The sum of our vector is :  tf.Tensor(2641, shape=(), dtype=int32)\n",
            " \n",
            "The mean of our vector is:  tf.Tensor(52, shape=(), dtype=int32)\n"
          ]
        }
      ]
    },
    {
      "cell_type": "code",
      "source": [
        "print(\"The position that holds the lowest value is : \",tf.argmin(a))\n",
        "print(\" \")\n",
        "print(\"The position that holds the highest value is: \",tf.argmax(a))"
      ],
      "metadata": {
        "colab": {
          "base_uri": "https://localhost:8080/"
        },
        "id": "NqLDhBYcNxvv",
        "outputId": "76324171-0cfe-4bba-9ba2-65b3934680af"
      },
      "execution_count": 79,
      "outputs": [
        {
          "output_type": "stream",
          "name": "stdout",
          "text": [
            "The position that holds the lowest value is :  tf.Tensor(18, shape=(), dtype=int64)\n",
            " \n",
            "The position that holds the highest value is:  tf.Tensor(17, shape=(), dtype=int64)\n"
          ]
        }
      ]
    },
    {
      "cell_type": "code",
      "source": [
        "a[tf.argmin(a)], a[tf.argmax(a)]"
      ],
      "metadata": {
        "colab": {
          "base_uri": "https://localhost:8080/"
        },
        "id": "Yd-xKsN3Nxty",
        "outputId": "89136433-1641-46a0-979f-3ac44609d30e"
      },
      "execution_count": 80,
      "outputs": [
        {
          "output_type": "execute_result",
          "data": {
            "text/plain": [
              "(<tf.Tensor: shape=(), dtype=int32, numpy=2>,\n",
              " <tf.Tensor: shape=(), dtype=int32, numpy=97>)"
            ]
          },
          "metadata": {},
          "execution_count": 80
        }
      ]
    },
    {
      "cell_type": "markdown",
      "source": [
        "### Transpose and Reshape "
      ],
      "metadata": {
        "id": "2Nl3iD7BUiE4"
      }
    },
    {
      "cell_type": "code",
      "source": [
        "# Create a 3 x 4 matrix \n",
        "a = tf.constant([[1, 2,3,4],[5,6,7,8], [9,10,11,12]])\n",
        "a"
      ],
      "metadata": {
        "colab": {
          "base_uri": "https://localhost:8080/"
        },
        "id": "MrKOQziQNxre",
        "outputId": "ea0d8990-1f9d-47b6-9a1f-c2c05b22981e"
      },
      "execution_count": 81,
      "outputs": [
        {
          "output_type": "execute_result",
          "data": {
            "text/plain": [
              "<tf.Tensor: shape=(3, 4), dtype=int32, numpy=\n",
              "array([[ 1,  2,  3,  4],\n",
              "       [ 5,  6,  7,  8],\n",
              "       [ 9, 10, 11, 12]], dtype=int32)>"
            ]
          },
          "metadata": {},
          "execution_count": 81
        }
      ]
    },
    {
      "cell_type": "code",
      "source": [
        "tf.reshape(a, shape=(2, 2,3))"
      ],
      "metadata": {
        "colab": {
          "base_uri": "https://localhost:8080/"
        },
        "id": "D-CNMr6kNxpS",
        "outputId": "a9a0aaa8-8d4e-4e6c-c5d8-9f2db80162a0"
      },
      "execution_count": 82,
      "outputs": [
        {
          "output_type": "execute_result",
          "data": {
            "text/plain": [
              "<tf.Tensor: shape=(2, 2, 3), dtype=int32, numpy=\n",
              "array([[[ 1,  2,  3],\n",
              "        [ 4,  5,  6]],\n",
              "\n",
              "       [[ 7,  8,  9],\n",
              "        [10, 11, 12]]], dtype=int32)>"
            ]
          },
          "metadata": {},
          "execution_count": 82
        }
      ]
    },
    {
      "cell_type": "code",
      "source": [
        "tf.transpose(a)"
      ],
      "metadata": {
        "colab": {
          "base_uri": "https://localhost:8080/"
        },
        "id": "wqmAfeEhNxnH",
        "outputId": "1f67cabc-6c9f-4856-9038-81f9a3b716bc"
      },
      "execution_count": 83,
      "outputs": [
        {
          "output_type": "execute_result",
          "data": {
            "text/plain": [
              "<tf.Tensor: shape=(4, 3), dtype=int32, numpy=\n",
              "array([[ 1,  5,  9],\n",
              "       [ 2,  6, 10],\n",
              "       [ 3,  7, 11],\n",
              "       [ 4,  8, 12]], dtype=int32)>"
            ]
          },
          "metadata": {},
          "execution_count": 83
        }
      ]
    },
    {
      "cell_type": "markdown",
      "source": [
        "### Element wise operations "
      ],
      "metadata": {
        "id": "PFoJEu5KWRxQ"
      }
    },
    {
      "cell_type": "code",
      "source": [
        "a= tf.constant([1,2,3])\n",
        "a"
      ],
      "metadata": {
        "colab": {
          "base_uri": "https://localhost:8080/"
        },
        "id": "91GSQL5oNxko",
        "outputId": "fa208589-aa7b-4cf7-a42e-182672f7cd61"
      },
      "execution_count": 84,
      "outputs": [
        {
          "output_type": "execute_result",
          "data": {
            "text/plain": [
              "<tf.Tensor: shape=(3,), dtype=int32, numpy=array([1, 2, 3], dtype=int32)>"
            ]
          },
          "metadata": {},
          "execution_count": 84
        }
      ]
    },
    {
      "cell_type": "code",
      "source": [
        "#Addition operation\n",
        "print(a+4)\n",
        "print(\" \")\n",
        "#Subtraction operation\n",
        "print(a-4)\n",
        "print(\" \")\n",
        "#Multiplication Operation\n",
        "print(a*4)\n",
        "print(\" \")\n",
        "#Division Operation\n",
        "print(a/4)\n",
        "print(\" \")"
      ],
      "metadata": {
        "colab": {
          "base_uri": "https://localhost:8080/"
        },
        "id": "KrgMJZ0RNxhn",
        "outputId": "8c73efd1-1733-4dbb-a85a-888bcc608af5"
      },
      "execution_count": 85,
      "outputs": [
        {
          "output_type": "stream",
          "name": "stdout",
          "text": [
            "tf.Tensor([5 6 7], shape=(3,), dtype=int32)\n",
            " \n",
            "tf.Tensor([-3 -2 -1], shape=(3,), dtype=int32)\n",
            " \n",
            "tf.Tensor([ 4  8 12], shape=(3,), dtype=int32)\n",
            " \n",
            "tf.Tensor([0.25 0.5  0.75], shape=(3,), dtype=float64)\n",
            " \n"
          ]
        }
      ]
    },
    {
      "cell_type": "markdown",
      "source": [
        "### Matrix multiplication"
      ],
      "metadata": {
        "id": "sAw4iecFXdUX"
      }
    },
    {
      "cell_type": "code",
      "source": [
        "# 3 X 2 MATRIX\n",
        "a = tf.constant([[1, 2],\n",
        "                 [3, 4],\n",
        "                 [5, 6]])\n",
        "\n",
        "#2 X 3 MATRIX\n",
        "b = tf.constant([[7,8,9],\n",
        "                 [10,11,12]])"
      ],
      "metadata": {
        "id": "eOEia1O2Wkth"
      },
      "execution_count": 86,
      "outputs": []
    },
    {
      "cell_type": "code",
      "source": [
        "#matrix muplitication\n",
        "tf.matmul(a,b)"
      ],
      "metadata": {
        "colab": {
          "base_uri": "https://localhost:8080/"
        },
        "id": "C9lCt03mWkq_",
        "outputId": "d97af980-3f54-4bf5-ab57-61d7809e6439"
      },
      "execution_count": 87,
      "outputs": [
        {
          "output_type": "execute_result",
          "data": {
            "text/plain": [
              "<tf.Tensor: shape=(3, 3), dtype=int32, numpy=\n",
              "array([[ 27,  30,  33],\n",
              "       [ 61,  68,  75],\n",
              "       [ 95, 106, 117]], dtype=int32)>"
            ]
          },
          "metadata": {},
          "execution_count": 87
        }
      ]
    },
    {
      "cell_type": "code",
      "source": [
        "#Mutiplying a with its transpose\n",
        "tf.matmul(a,tf.transpose(a))"
      ],
      "metadata": {
        "colab": {
          "base_uri": "https://localhost:8080/"
        },
        "id": "munnxN7qWko4",
        "outputId": "73c4aace-950a-4004-bc96-17d8e3423fc9"
      },
      "execution_count": 88,
      "outputs": [
        {
          "output_type": "execute_result",
          "data": {
            "text/plain": [
              "<tf.Tensor: shape=(3, 3), dtype=int32, numpy=\n",
              "array([[ 5, 11, 17],\n",
              "       [11, 25, 39],\n",
              "       [17, 39, 61]], dtype=int32)>"
            ]
          },
          "metadata": {},
          "execution_count": 88
        }
      ]
    },
    {
      "cell_type": "code",
      "source": [
        "#Mutiplying a with reshaped a. Hope you tried it out yourself?\n",
        "tf.matmul(a,tf.reshape(a, shape =(2,3)))"
      ],
      "metadata": {
        "colab": {
          "base_uri": "https://localhost:8080/"
        },
        "id": "9Ae68LtiWkma",
        "outputId": "4e5b5f14-249e-42a5-ff4f-1d18f98818db"
      },
      "execution_count": 89,
      "outputs": [
        {
          "output_type": "execute_result",
          "data": {
            "text/plain": [
              "<tf.Tensor: shape=(3, 3), dtype=int32, numpy=\n",
              "array([[ 9, 12, 15],\n",
              "       [19, 26, 33],\n",
              "       [29, 40, 51]], dtype=int32)>"
            ]
          },
          "metadata": {},
          "execution_count": 89
        }
      ]
    }
  ]
}